{
 "cells": [
  {
   "cell_type": "markdown",
   "metadata": {},
   "source": [
    "# Reading ISA-Tab from files and Validating ISA-Tab files "
   ]
  },
  {
   "cell_type": "markdown",
   "metadata": {},
   "source": [
    "## Abstract:\n",
    "\n",
    "The aim of this notebook is to:\n",
    "   - show essential function to read and load an ISA-tab file in memory.\n",
    "   - navigate key objects and pull key attributes.\n",
    "   - learn how to invoke the ISA-tab validation function.\n",
    "   - interpret the output of the validation report.\n"
   ]
  },
  {
   "cell_type": "markdown",
   "metadata": {},
   "source": [
    "## 1. Getting the tools"
   ]
  },
  {
   "cell_type": "code",
   "execution_count": null,
   "metadata": {},
   "outputs": [],
   "source": [
    "# If executing the notebooks on `Google Colab`,uncomment the following command \n",
    "# and run it to install the required python libraries. Also, make the test datasets available.\n",
    "\n",
    "# !pip install -r requirements.txt"
   ]
  },
  {
   "cell_type": "code",
   "execution_count": 1,
   "metadata": {},
   "outputs": [
    {
     "name": "stdout",
     "output_type": "stream",
     "text": [
      "log_level: error\n",
      "LOG: <Logger isatools (DEBUG)>\n",
      "/Users/philippe/.pyenv/versions/3.7.4/envs/isapi-testson374/src/isatools/isatools/net/resources/saxon9/saxon9he.jar\n"
     ]
    }
   ],
   "source": [
    "import isatools\n",
    "import os\n",
    "import sys\n",
    "from isatools import isatab"
   ]
  },
  {
   "cell_type": "markdown",
   "metadata": {},
   "source": [
    "## 2. Reading and loading an ISA Investigation in memory from an ISA-Tab instance"
   ]
  },
  {
   "cell_type": "code",
   "execution_count": 41,
   "metadata": {},
   "outputs": [],
   "source": [
    "with open(os.path.join('./tmps1p4chat', 'i_investigation.txt')) as fp:\n",
    "            ISA = isatab.load(fp)"
   ]
  },
  {
   "cell_type": "code",
   "execution_count": 42,
   "metadata": {},
   "outputs": [
    {
     "data": {
      "text/plain": [
       "'Like with the Investigation, we could use the class constructor to set some default values, but have chosen to demonstrate in this example the use of instance variables to set initial values.'"
      ]
     },
     "execution_count": 42,
     "metadata": {},
     "output_type": "execute_result"
    }
   ],
   "source": [
    "ISA.studies[0].description\n"
   ]
  },
  {
   "cell_type": "code",
   "execution_count": 43,
   "metadata": {},
   "outputs": [
    {
     "data": {
      "text/plain": [
       "'ontovalue_TEST_3'"
      ]
     },
     "execution_count": 43,
     "metadata": {},
     "output_type": "execute_result"
    }
   ],
   "source": [
    "# first_source_characteristics = ISA.studies[0].samples[0].characteristics\n",
    "# first_source_characteristics[2].category.term\n",
    "# first_source_characteristics[2].value.term\n",
    "\n",
    "# first_source_characteristics = ISA.studies[0].samples[1].characteristics\n",
    "# first_source_characteristics[2].category.term\n",
    "# first_source_characteristics[2].value.term\n",
    "\n",
    "first_sample_characteristics = ISA.studies[0].samples[2].characteristics\n",
    "first_sample_characteristics[2].category.term\n",
    "first_sample_characteristics[2].value.term"
   ]
  },
  {
   "cell_type": "code",
   "execution_count": 44,
   "metadata": {},
   "outputs": [
    {
     "ename": "AttributeError",
     "evalue": "'str' object has no attribute 'term'",
     "output_type": "error",
     "traceback": [
      "\u001b[0;31m---------------------------------------------------------------------------\u001b[0m",
      "\u001b[0;31mAttributeError\u001b[0m                            Traceback (most recent call last)",
      "\u001b[0;32m<ipython-input-44-d0b2824b317a>\u001b[0m in \u001b[0;36m<module>\u001b[0;34m\u001b[0m\n\u001b[1;32m      1\u001b[0m \u001b[0msecond_sample_characteristics\u001b[0m \u001b[0;34m=\u001b[0m \u001b[0mISA\u001b[0m\u001b[0;34m.\u001b[0m\u001b[0mstudies\u001b[0m\u001b[0;34m[\u001b[0m\u001b[0;36m0\u001b[0m\u001b[0;34m]\u001b[0m\u001b[0;34m.\u001b[0m\u001b[0msamples\u001b[0m\u001b[0;34m[\u001b[0m\u001b[0;36m1\u001b[0m\u001b[0;34m]\u001b[0m\u001b[0;34m.\u001b[0m\u001b[0mcharacteristics\u001b[0m\u001b[0;34m\u001b[0m\u001b[0;34m\u001b[0m\u001b[0m\n\u001b[1;32m      2\u001b[0m \u001b[0msecond_sample_characteristics\u001b[0m\u001b[0;34m[\u001b[0m\u001b[0;36m2\u001b[0m\u001b[0;34m]\u001b[0m\u001b[0;34m.\u001b[0m\u001b[0mcategory\u001b[0m\u001b[0;34m.\u001b[0m\u001b[0mterm\u001b[0m\u001b[0;34m\u001b[0m\u001b[0;34m\u001b[0m\u001b[0m\n\u001b[0;32m----> 3\u001b[0;31m \u001b[0msecond_sample_characteristics\u001b[0m\u001b[0;34m[\u001b[0m\u001b[0;36m2\u001b[0m\u001b[0;34m]\u001b[0m\u001b[0;34m.\u001b[0m\u001b[0mvalue\u001b[0m\u001b[0;34m.\u001b[0m\u001b[0mterm\u001b[0m\u001b[0;34m\u001b[0m\u001b[0;34m\u001b[0m\u001b[0m\n\u001b[0m",
      "\u001b[0;31mAttributeError\u001b[0m: 'str' object has no attribute 'term'"
     ]
    }
   ],
   "source": [
    "second_sample_characteristics = ISA.studies[0].samples[1].characteristics\n",
    "second_sample_characteristics[2].category.term\n",
    "second_sample_characteristics[2].value.term"
   ]
  },
  {
   "cell_type": "code",
   "execution_count": 39,
   "metadata": {},
   "outputs": [
    {
     "name": "stderr",
     "output_type": "stream",
     "text": [
      "2021-03-23 09:40:27,583 [INFO]: isatab.py(validate:4212) >> Loading... ./tmps1p4chat/i_investigation.txt\n",
      "2021-03-23 09:40:27,773 [INFO]: isatab.py(validate:4214) >> Running prechecks...\n",
      "2021-03-23 09:40:27,804 [WARNING]: isatab.py(check_study_factor_usage:2830) >> (W) Some study factors declared in the investigation file are not used in any assay file: [\"treatment['modality']\", 'duration']\n",
      "2021-03-23 09:40:27,845 [WARNING]: isatab.py(check_protocol_parameter_usage:2939) >> (W) Some protocol parameters declared in the investigation file are not used in any assay file: ['Collection Date', 'material description']\n",
      "2021-03-23 09:40:27,847 [INFO]: isatab.py(validate:4235) >> Finished prechecks...\n",
      "2021-03-23 09:40:27,848 [INFO]: isatab.py(validate:4236) >> Loading configurations found in /Users/philippe/.pyenv/versions/3.7.4/envs/isapi-testson374/src/isatools/isatools/resources/config/xml\n",
      "2021-03-23 09:40:27,882 [INFO]: isatab.py(validate:4241) >> Using configurations found in /Users/philippe/.pyenv/versions/3.7.4/envs/isapi-testson374/src/isatools/isatools/resources/config/xml\n",
      "2021-03-23 09:40:27,883 [INFO]: isatab.py(validate:4243) >> Checking investigation file against configuration...\n",
      "2021-03-23 09:40:27,885 [WARNING]: isatab.py(check_section_against_required_fields_one_value:3373) >> (W) A property value in Investigation Person Mid Initials of investigation file at column 1 is required\n",
      "2021-03-23 09:40:27,887 [WARNING]: isatab.py(check_section_against_required_fields_one_value:3373) >> (W) A property value in Study Publication DOI of investigation file at column 1 is required\n",
      "2021-03-23 09:40:27,889 [WARNING]: isatab.py(check_section_against_required_fields_one_value:3373) >> (W) A property value in Study Publication DOI of investigation file at column 2 is required\n",
      "2021-03-23 09:40:27,891 [WARNING]: isatab.py(check_section_against_required_fields_one_value:3373) >> (W) A property value in Study Person Mid Initials of investigation file at column 1 is required\n",
      "2021-03-23 09:40:27,892 [WARNING]: isatab.py(check_section_against_required_fields_one_value:3373) >> (W) A property value in Study Person Mid Initials of investigation file at column 2 is required\n",
      "2021-03-23 09:40:27,893 [INFO]: isatab.py(validate:4246) >> Finished checking investigation file\n",
      "2021-03-23 09:40:27,894 [INFO]: isatab.py(validate:4265) >> Loading... s_study.txt\n",
      "2021-03-23 09:40:27,900 [INFO]: isatab.py(validate:4272) >> Validating s_study.txt against default study table configuration\n",
      "2021-03-23 09:40:27,901 [INFO]: isatab.py(validate:4273) >> Checking Factor Value presence...\n",
      "2021-03-23 09:40:27,901 [INFO]: isatab.py(validate:4276) >> Checking required fields...\n",
      "2021-03-23 09:40:27,902 [INFO]: isatab.py(validate:4279) >> Checking generic fields...\n",
      "2021-03-23 09:40:27,903 [INFO]: isatab.py(validate:4287) >> Checking unit fields...\n",
      "2021-03-23 09:40:27,904 [INFO]: isatab.py(validate:4294) >> Checking protocol fields...\n",
      "2021-03-23 09:40:27,905 [WARNING]: isatab.py(check_protocol_fields:4030) >> (W) Protocol(s) of type ['sample collection'] defined in the ISA-configuration expected as a between 'Source Name' and 'Sample Name' but has not been found, in the file 's_study.txt'\n",
      "2021-03-23 09:40:27,906 [WARNING]: isatab.py(validate:4303) >> (W) There are some protocol inconsistencies in s_study.txt against Study Sample configuration\n",
      "2021-03-23 09:40:27,906 [INFO]: isatab.py(validate:4304) >> Checking ontology fields...\n",
      "2021-03-23 09:40:27,907 [INFO]: isatab.py(validate:4314) >> Checking study group size...\n",
      "2021-03-23 09:40:27,907 [INFO]: isatab.py(validate:4319) >> Finished validation on s_study.txt\n",
      "2021-03-23 09:40:27,908 [INFO]: isatab.py(validate:4356) >> Loading... a_assay.txt\n",
      "2021-03-23 09:40:27,911 [INFO]: isatab.py(validate:4368) >> Validating a_assay.txt against assay table configuration (transcription profiling, nucleotide sequencing)...\n",
      "2021-03-23 09:40:27,912 [INFO]: isatab.py(validate:4370) >> Checking Factor Value presence...\n",
      "2021-03-23 09:40:27,912 [INFO]: isatab.py(validate:4373) >> Checking required fields...\n",
      "2021-03-23 09:40:27,913 [WARNING]: isatab.py(check_required_fields:3694) >> (W) Required field 'Parameter Value[library layout]' not found in the file 'a_assay.txt'\n",
      "2021-03-23 09:40:27,914 [WARNING]: isatab.py(check_required_fields:3694) >> (W) Required field 'Assay Name' not found in the file 'a_assay.txt'\n",
      "2021-03-23 09:40:27,915 [INFO]: isatab.py(validate:4376) >> Checking generic fields...\n",
      "2021-03-23 09:40:27,919 [INFO]: isatab.py(validate:4387) >> Checking unit fields...\n",
      "2021-03-23 09:40:27,921 [INFO]: isatab.py(validate:4397) >> Checking protocol fields...\n",
      "2021-03-23 09:40:27,923 [WARNING]: isatab.py(check_protocol_fields:4030) >> (W) Protocol(s) of type ['nucleic acid extraction'] defined in the ISA-configuration expected as a between 'Sample Name' and 'Extract Name' but has not been found, in the file 'a_assay.txt'\n",
      "2021-03-23 09:40:27,924 [WARNING]: isatab.py(check_protocol_fields:4030) >> (W) Protocol(s) of type ['library construction', 'nucleic acid sequencing'] defined in the ISA-configuration expected as a between 'Extract Name' and 'Raw Data File' but has not been found, in the file 'a_assay.txt'\n",
      "2021-03-23 09:40:27,925 [WARNING]: isatab.py(validate:4408) >> (W) There are some protocol inconsistencies in a_assay.txt against ('transcription profiling', 'nucleotide sequencing') configuration\n",
      "2021-03-23 09:40:27,925 [INFO]: isatab.py(validate:4409) >> Checking ontology fields...\n",
      "2021-03-23 09:40:27,926 [INFO]: isatab.py(validate:4422) >> Checking study group size...\n",
      "2021-03-23 09:40:27,926 [INFO]: isatab.py(validate:4428) >> Finished validation on a_assay.txt\n",
      "2021-03-23 09:40:27,927 [INFO]: isatab.py(validate:4433) >> Checking consistencies between study sample table and assay tables...\n",
      "2021-03-23 09:40:27,928 [INFO]: isatab.py(validate:4438) >> Finished checking study sample table against assay tables...\n",
      "2021-03-23 09:40:27,929 [INFO]: isatab.py(validate:4356) >> Loading... a_assay-methyl.txt\n",
      "2021-03-23 09:40:27,934 [INFO]: isatab.py(validate:4368) >> Validating a_assay-methyl.txt against assay table configuration (dna methylation profiling, nucleotide sequencing)...\n",
      "2021-03-23 09:40:27,935 [INFO]: isatab.py(validate:4370) >> Checking Factor Value presence...\n",
      "2021-03-23 09:40:27,935 [INFO]: isatab.py(validate:4373) >> Checking required fields...\n",
      "2021-03-23 09:40:27,936 [WARNING]: isatab.py(check_required_fields:3694) >> (W) Required field 'Assay Name' not found in the file 'a_assay-methyl.txt'\n",
      "2021-03-23 09:40:27,937 [INFO]: isatab.py(validate:4376) >> Checking generic fields...\n",
      "2021-03-23 09:40:27,940 [INFO]: isatab.py(validate:4387) >> Checking unit fields...\n",
      "2021-03-23 09:40:27,941 [INFO]: isatab.py(validate:4397) >> Checking protocol fields...\n",
      "2021-03-23 09:40:27,943 [WARNING]: isatab.py(check_protocol_fields:4030) >> (W) Protocol(s) of type ['nucleic acid extraction'] defined in the ISA-configuration expected as a between 'Sample Name' and 'Extract Name' but has not been found, in the file 'a_assay-methyl.txt'\n",
      "2021-03-23 09:40:27,944 [WARNING]: isatab.py(check_protocol_fields:4030) >> (W) Protocol(s) of type ['library construction', 'nucleic acid sequencing'] defined in the ISA-configuration expected as a between 'Extract Name' and 'Raw Data File' but has not been found, in the file 'a_assay-methyl.txt'\n",
      "2021-03-23 09:40:27,945 [WARNING]: isatab.py(validate:4408) >> (W) There are some protocol inconsistencies in a_assay-methyl.txt against ('dna methylation profiling', 'nucleotide sequencing') configuration\n",
      "2021-03-23 09:40:27,945 [INFO]: isatab.py(validate:4409) >> Checking ontology fields...\n",
      "2021-03-23 09:40:27,946 [INFO]: isatab.py(validate:4422) >> Checking study group size...\n",
      "2021-03-23 09:40:27,947 [INFO]: isatab.py(validate:4428) >> Finished validation on a_assay-methyl.txt\n",
      "2021-03-23 09:40:27,948 [INFO]: isatab.py(validate:4433) >> Checking consistencies between study sample table and assay tables...\n",
      "2021-03-23 09:40:27,950 [INFO]: isatab.py(validate:4438) >> Finished checking study sample table against assay tables...\n",
      "2021-03-23 09:40:28,299 [INFO]: utils.py(detect_isatab_process_pooling:88) >> Checking s_study.txt\n",
      "2021-03-23 09:40:28,305 [INFO]: utils.py(detect_isatab_process_pooling:97) >> Checking a_assay.txt\n"
     ]
    },
    {
     "name": "stderr",
     "output_type": "stream",
     "text": [
      "2021-03-23 09:40:28,313 [INFO]: utils.py(detect_graph_process_pooling:70) >> Possible process pooling detected on:  sequencing-TEST\n",
      "2021-03-23 09:40:28,314 [INFO]: utils.py(detect_graph_process_pooling:70) >> Possible process pooling detected on:  sequencing-TEST\n",
      "2021-03-23 09:40:28,315 [INFO]: utils.py(detect_graph_process_pooling:70) >> Possible process pooling detected on:  sequencing-TEST\n",
      "2021-03-23 09:40:28,315 [INFO]: utils.py(detect_isatab_process_pooling:97) >> Checking a_assay-methyl.txt\n",
      "2021-03-23 09:40:28,324 [INFO]: utils.py(detect_graph_process_pooling:70) >> Possible process pooling detected on:  methylation sequencing-TEST\n",
      "2021-03-23 09:40:28,325 [INFO]: utils.py(detect_graph_process_pooling:70) >> Possible process pooling detected on:  methylation sequencing-TEST\n",
      "2021-03-23 09:40:28,326 [INFO]: utils.py(detect_graph_process_pooling:70) >> Possible process pooling detected on:  methylation sequencing-TEST\n",
      "2021-03-23 09:40:28,327 [INFO]: isatab.py(validate:4450) >> Finished validation...\n"
     ]
    },
    {
     "data": {
      "text/plain": [
       "{'errors': [],\n",
       " 'warnings': [{'message': 'A required property is missing',\n",
       "   'supplemental': 'A property value in Investigation Person Mid Initials of investigation file at column 1 is required',\n",
       "   'code': 4003},\n",
       "  {'message': 'A required property is missing',\n",
       "   'supplemental': 'A property value in Study Publication DOI of investigation file at column 1 is required',\n",
       "   'code': 4003},\n",
       "  {'message': 'A required property is missing',\n",
       "   'supplemental': 'A property value in Study Publication DOI of investigation file at column 2 is required',\n",
       "   'code': 4003},\n",
       "  {'message': 'A required property is missing',\n",
       "   'supplemental': 'A property value in Study Person Mid Initials of investigation file at column 1 is required',\n",
       "   'code': 4003},\n",
       "  {'message': 'A required property is missing',\n",
       "   'supplemental': 'A property value in Study Person Mid Initials of investigation file at column 2 is required',\n",
       "   'code': 4003},\n",
       "  {'message': 'Missing Protocol declaration',\n",
       "   'supplemental': \"Protocol(s) of type ['sample collection'] defined in the ISA-configuration expected as a between 'Source Name' and 'Sample Name' but has not been found, in the file 's_study.txt'\",\n",
       "   'code': 1007},\n",
       "  {'message': 'A required column in assay table is not present',\n",
       "   'supplemental': \"Required field 'Parameter Value[library layout]' not found in the file 'a_assay.txt'\",\n",
       "   'code': 4010},\n",
       "  {'message': 'A required column in assay table is not present',\n",
       "   'supplemental': \"Required field 'Assay Name' not found in the file 'a_assay.txt'\",\n",
       "   'code': 4010},\n",
       "  {'message': 'Missing Protocol declaration',\n",
       "   'supplemental': \"Protocol(s) of type ['nucleic acid extraction'] defined in the ISA-configuration expected as a between 'Sample Name' and 'Extract Name' but has not been found, in the file 'a_assay.txt'\",\n",
       "   'code': 1007},\n",
       "  {'message': 'Missing Protocol declaration',\n",
       "   'supplemental': \"Protocol(s) of type ['library construction', 'nucleic acid sequencing'] defined in the ISA-configuration expected as a between 'Extract Name' and 'Raw Data File' but has not been found, in the file 'a_assay.txt'\",\n",
       "   'code': 1007},\n",
       "  {'message': 'A required column in assay table is not present',\n",
       "   'supplemental': \"Required field 'Assay Name' not found in the file 'a_assay-methyl.txt'\",\n",
       "   'code': 4010},\n",
       "  {'message': 'Missing Protocol declaration',\n",
       "   'supplemental': \"Protocol(s) of type ['nucleic acid extraction'] defined in the ISA-configuration expected as a between 'Sample Name' and 'Extract Name' but has not been found, in the file 'a_assay-methyl.txt'\",\n",
       "   'code': 1007},\n",
       "  {'message': 'Missing Protocol declaration',\n",
       "   'supplemental': \"Protocol(s) of type ['library construction', 'nucleic acid sequencing'] defined in the ISA-configuration expected as a between 'Extract Name' and 'Raw Data File' but has not been found, in the file 'a_assay-methyl.txt'\",\n",
       "   'code': 1007}],\n",
       " 'info': [{'message': 'Found -1 study groups in s_study.txt',\n",
       "   'supplemental': 'Found -1 study groups in s_study.txt',\n",
       "   'code': 5001},\n",
       "  {'message': 'Found -1 study groups in a_assay.txt',\n",
       "   'supplemental': 'Found -1 study groups in a_assay.txt',\n",
       "   'code': 5001},\n",
       "  {'message': 'Found -1 study groups in a_assay-methyl.txt',\n",
       "   'supplemental': 'Found -1 study groups in a_assay-methyl.txt',\n",
       "   'code': 5001}],\n",
       " 'validation_finished': True}"
      ]
     },
     "execution_count": 39,
     "metadata": {},
     "output_type": "execute_result"
    }
   ],
   "source": [
    "isatab.validate(open(os.path.join('./tmps1p4chat', 'i_investigation.txt')))"
   ]
  },
  {
   "cell_type": "code",
   "execution_count": 40,
   "metadata": {},
   "outputs": [
    {
     "name": "stderr",
     "output_type": "stream",
     "text": [
      "2021-03-23 09:40:29,480 [INFO]: isatab.py(_all_end_to_end_paths:1152) >> Found 3 paths!\n"
     ]
    },
    {
     "ename": "KeyError",
     "evalue": "'Sample Name.0.Characteristics[ontoTEST_3].Term Source REF'",
     "output_type": "error",
     "traceback": [
      "\u001b[0;31m---------------------------------------------------------------------------\u001b[0m",
      "\u001b[0;31mKeyError\u001b[0m                                  Traceback (most recent call last)",
      "\u001b[0;32m<ipython-input-40-355309389056>\u001b[0m in \u001b[0;36m<module>\u001b[0;34m\u001b[0m\n\u001b[1;32m      2\u001b[0m \u001b[0;34m\u001b[0m\u001b[0m\n\u001b[1;32m      3\u001b[0m \u001b[0mfinal_dir\u001b[0m \u001b[0;34m=\u001b[0m \u001b[0mos\u001b[0m\u001b[0;34m.\u001b[0m\u001b[0mpath\u001b[0m\u001b[0;34m.\u001b[0m\u001b[0mabspath\u001b[0m\u001b[0;34m(\u001b[0m\u001b[0mos\u001b[0m\u001b[0;34m.\u001b[0m\u001b[0mpath\u001b[0m\u001b[0;34m.\u001b[0m\u001b[0mjoin\u001b[0m\u001b[0;34m(\u001b[0m\u001b[0;34m'output'\u001b[0m\u001b[0;34m,\u001b[0m \u001b[0;34m'ontotest'\u001b[0m\u001b[0;34m)\u001b[0m\u001b[0;34m)\u001b[0m\u001b[0;34m\u001b[0m\u001b[0;34m\u001b[0m\u001b[0m\n\u001b[0;32m----> 4\u001b[0;31m \u001b[0misatab\u001b[0m\u001b[0;34m.\u001b[0m\u001b[0mdump\u001b[0m\u001b[0;34m(\u001b[0m\u001b[0mISA\u001b[0m\u001b[0;34m,\u001b[0m \u001b[0mfinal_dir\u001b[0m\u001b[0;34m)\u001b[0m\u001b[0;34m\u001b[0m\u001b[0;34m\u001b[0m\u001b[0m\n\u001b[0m",
      "\u001b[0;32m~/.pyenv/versions/3.7.4/envs/isapi-testson374/src/isatools/isatools/isatab.py\u001b[0m in \u001b[0;36mdump\u001b[0;34m(isa_obj, output_path, i_file_name, skip_dump_tables, write_factor_values_in_assay_table)\u001b[0m\n\u001b[1;32m   1045\u001b[0m         \u001b[0;32mpass\u001b[0m\u001b[0;34m\u001b[0m\u001b[0;34m\u001b[0m\u001b[0m\n\u001b[1;32m   1046\u001b[0m     \u001b[0;32melse\u001b[0m\u001b[0;34m:\u001b[0m\u001b[0;34m\u001b[0m\u001b[0;34m\u001b[0m\u001b[0m\n\u001b[0;32m-> 1047\u001b[0;31m         \u001b[0mwrite_study_table_files\u001b[0m\u001b[0;34m(\u001b[0m\u001b[0minvestigation\u001b[0m\u001b[0;34m,\u001b[0m \u001b[0moutput_path\u001b[0m\u001b[0;34m)\u001b[0m\u001b[0;34m\u001b[0m\u001b[0;34m\u001b[0m\u001b[0m\n\u001b[0m\u001b[1;32m   1048\u001b[0m         write_assay_table_files(\n\u001b[1;32m   1049\u001b[0m             investigation, output_path, write_factor_values_in_assay_table)\n",
      "\u001b[0;32m~/.pyenv/versions/3.7.4/envs/isapi-testson374/src/isatools/isatools/isatab.py\u001b[0m in \u001b[0;36mwrite_study_table_files\u001b[0;34m(inv_obj, output_dir)\u001b[0m\n\u001b[1;32m   1277\u001b[0m                         clabel = \"{0}.Characteristics[{1}]\".format(\n\u001b[1;32m   1278\u001b[0m                             olabel, c.category.term)\n\u001b[0;32m-> 1279\u001b[0;31m                         \u001b[0mwrite_value_columns\u001b[0m\u001b[0;34m(\u001b[0m\u001b[0mdf_dict\u001b[0m\u001b[0;34m,\u001b[0m \u001b[0mclabel\u001b[0m\u001b[0;34m,\u001b[0m \u001b[0mc\u001b[0m\u001b[0;34m)\u001b[0m\u001b[0;34m\u001b[0m\u001b[0;34m\u001b[0m\u001b[0m\n\u001b[0m\u001b[1;32m   1280\u001b[0m                     \u001b[0;32mfor\u001b[0m \u001b[0mco\u001b[0m \u001b[0;32min\u001b[0m \u001b[0mnode\u001b[0m\u001b[0;34m.\u001b[0m\u001b[0mcomments\u001b[0m\u001b[0;34m:\u001b[0m\u001b[0;34m\u001b[0m\u001b[0;34m\u001b[0m\u001b[0m\n\u001b[1;32m   1281\u001b[0m                         \u001b[0mcolabel\u001b[0m \u001b[0;34m=\u001b[0m \u001b[0;34m\"{0}.Comment[{1}]\"\u001b[0m\u001b[0;34m.\u001b[0m\u001b[0mformat\u001b[0m\u001b[0;34m(\u001b[0m\u001b[0molabel\u001b[0m\u001b[0;34m,\u001b[0m \u001b[0mco\u001b[0m\u001b[0;34m.\u001b[0m\u001b[0mname\u001b[0m\u001b[0;34m)\u001b[0m\u001b[0;34m\u001b[0m\u001b[0;34m\u001b[0m\u001b[0m\n",
      "\u001b[0;32m~/.pyenv/versions/3.7.4/envs/isapi-testson374/src/isatools/isatools/isatab.py\u001b[0m in \u001b[0;36mwrite_value_columns\u001b[0;34m(df_dict, label, x)\u001b[0m\n\u001b[1;32m   1733\u001b[0m         \u001b[0mdf_dict\u001b[0m\u001b[0;34m[\u001b[0m\u001b[0mlabel\u001b[0m\u001b[0;34m]\u001b[0m\u001b[0;34m[\u001b[0m\u001b[0;34m-\u001b[0m\u001b[0;36m1\u001b[0m\u001b[0;34m]\u001b[0m \u001b[0;34m=\u001b[0m \u001b[0mx\u001b[0m\u001b[0;34m.\u001b[0m\u001b[0mvalue\u001b[0m\u001b[0;34m.\u001b[0m\u001b[0mterm\u001b[0m\u001b[0;34m\u001b[0m\u001b[0;34m\u001b[0m\u001b[0m\n\u001b[1;32m   1734\u001b[0m         \u001b[0mdf_dict\u001b[0m\u001b[0;34m[\u001b[0m\u001b[0mlabel\u001b[0m \u001b[0;34m+\u001b[0m \u001b[0;34m\".Term Source REF\"\u001b[0m\u001b[0;34m]\u001b[0m\u001b[0;34m[\u001b[0m\u001b[0;34m-\u001b[0m\u001b[0;36m1\u001b[0m\u001b[0;34m]\u001b[0m \u001b[0;34m=\u001b[0m\u001b[0;31m \u001b[0m\u001b[0;31m\\\u001b[0m\u001b[0;34m\u001b[0m\u001b[0;34m\u001b[0m\u001b[0m\n\u001b[0;32m-> 1735\u001b[0;31m             \u001b[0mx\u001b[0m\u001b[0;34m.\u001b[0m\u001b[0mvalue\u001b[0m\u001b[0;34m.\u001b[0m\u001b[0mterm_source\u001b[0m\u001b[0;34m.\u001b[0m\u001b[0mname\u001b[0m \u001b[0;32mif\u001b[0m \u001b[0mx\u001b[0m\u001b[0;34m.\u001b[0m\u001b[0mvalue\u001b[0m\u001b[0;34m.\u001b[0m\u001b[0mterm_source\u001b[0m \u001b[0;32melse\u001b[0m \u001b[0;34m\"\"\u001b[0m\u001b[0;34m\u001b[0m\u001b[0;34m\u001b[0m\u001b[0m\n\u001b[0m\u001b[1;32m   1736\u001b[0m         \u001b[0mdf_dict\u001b[0m\u001b[0;34m[\u001b[0m\u001b[0mlabel\u001b[0m \u001b[0;34m+\u001b[0m \u001b[0;34m\".Term Accession Number\"\u001b[0m\u001b[0;34m]\u001b[0m\u001b[0;34m[\u001b[0m\u001b[0;34m-\u001b[0m\u001b[0;36m1\u001b[0m\u001b[0;34m]\u001b[0m \u001b[0;34m=\u001b[0m\u001b[0;31m \u001b[0m\u001b[0;31m\\\u001b[0m\u001b[0;34m\u001b[0m\u001b[0;34m\u001b[0m\u001b[0m\n\u001b[1;32m   1737\u001b[0m             \u001b[0mx\u001b[0m\u001b[0;34m.\u001b[0m\u001b[0mvalue\u001b[0m\u001b[0;34m.\u001b[0m\u001b[0mterm_accession\u001b[0m\u001b[0;34m\u001b[0m\u001b[0;34m\u001b[0m\u001b[0m\n",
      "\u001b[0;31mKeyError\u001b[0m: 'Sample Name.0.Characteristics[ontoTEST_3].Term Source REF'"
     ]
    }
   ],
   "source": [
    "from isatools import isatab\n",
    "\n",
    "final_dir = os.path.abspath(os.path.join('output', 'ontotest'))\n",
    "isatab.dump(ISA, final_dir)\n"
   ]
  },
  {
   "cell_type": "code",
   "execution_count": null,
   "metadata": {},
   "outputs": [],
   "source": [
    "with open(os.path.join('./BII-S-3', 'i_gilbert.txt')) as fp:\n",
    "            ISA = isatab.load(fp)"
   ]
  },
  {
   "cell_type": "markdown",
   "metadata": {},
   "source": [
    "### Let's check the description of the first study object present in an ISA Investigation object"
   ]
  },
  {
   "cell_type": "code",
   "execution_count": null,
   "metadata": {},
   "outputs": [],
   "source": [
    "ISA.studies[0].description"
   ]
  },
  {
   "cell_type": "markdown",
   "metadata": {},
   "source": [
    "### Let's check the protocols declared in ISA the study (using a python list comprehension):"
   ]
  },
  {
   "cell_type": "code",
   "execution_count": null,
   "metadata": {},
   "outputs": [],
   "source": [
    "[protocol.description for protocol in ISA.studies[0].protocols]"
   ]
  },
  {
   "cell_type": "markdown",
   "metadata": {},
   "source": [
    "### Let's now checks the ISA Assay Measurement and Technology Types  are used in this ISA Study object"
   ]
  },
  {
   "cell_type": "code",
   "execution_count": null,
   "metadata": {},
   "outputs": [],
   "source": [
    "[f'{assay.measurement_type.term} using {assay.technology_type.term}' for assay in ISA.studies[0].assays]"
   ]
  },
  {
   "cell_type": "markdown",
   "metadata": {},
   "source": [
    "### Let's now check the `ISA Study Source` Material:"
   ]
  },
  {
   "cell_type": "code",
   "execution_count": null,
   "metadata": {},
   "outputs": [],
   "source": [
    "[source.name for source in ISA.studies[0].sources]"
   ]
  },
  {
   "cell_type": "markdown",
   "metadata": {},
   "source": [
    "#### Let's check what is the first `ISA Study Source property`:"
   ]
  },
  {
   "cell_type": "code",
   "execution_count": null,
   "metadata": {},
   "outputs": [],
   "source": [
    "# here, we get all the characteristics of the first Source object\n",
    "first_source_characteristics = ISA.studies[0].sources[0].characteristics"
   ]
  },
  {
   "cell_type": "code",
   "execution_count": null,
   "metadata": {},
   "outputs": [],
   "source": [
    "first_source_characteristics[0].category.term"
   ]
  },
  {
   "cell_type": "markdown",
   "metadata": {},
   "source": [
    "#### Let's now check what is the `value` associated with that first `ISA Study Source property`:"
   ]
  },
  {
   "cell_type": "code",
   "execution_count": null,
   "metadata": {},
   "outputs": [],
   "source": [
    "first_source_characteristics[0].value.term"
   ]
  },
  {
   "cell_type": "markdown",
   "metadata": {},
   "source": [
    "#### Let's now check what are all the properties associated with this first `ISA Study Source`"
   ]
  },
  {
   "cell_type": "code",
   "execution_count": null,
   "metadata": {},
   "outputs": [],
   "source": [
    "[char.category.term for char in first_source_characteristics]"
   ]
  },
  {
   "cell_type": "markdown",
   "metadata": {},
   "source": [
    "#### And the corresponding values are:"
   ]
  },
  {
   "cell_type": "code",
   "execution_count": null,
   "metadata": {},
   "outputs": [],
   "source": [
    "[char.value for char in first_source_characteristics]"
   ]
  },
  {
   "cell_type": "markdown",
   "metadata": {},
   "source": [
    "## 3. Invoking the python ISA-Tab Validator"
   ]
  },
  {
   "cell_type": "code",
   "execution_count": null,
   "metadata": {},
   "outputs": [],
   "source": [
    "my_json_report_bii_i_1 = isatab.validate(open(os.path.join('./BII-I-1/', 'i_investigation.txt')))"
   ]
  },
  {
   "cell_type": "code",
   "execution_count": null,
   "metadata": {},
   "outputs": [],
   "source": [
    "my_json_report_bii_s_3 = isatab.validate(open(os.path.join('./BII-S-3/', 'i_gilbert.txt')))"
   ]
  },
  {
   "cell_type": "code",
   "execution_count": null,
   "metadata": {},
   "outputs": [],
   "source": [
    "my_json_report_bii_s_4 = isatab.validate(open(os.path.join('./BII-S-4/', 'i_investigation.txt')))"
   ]
  },
  {
   "cell_type": "code",
   "execution_count": null,
   "metadata": {},
   "outputs": [],
   "source": [
    "my_json_report_bii_s_7 = isatab.validate(open(os.path.join('./BII-S-7/', 'i_matteo.txt')))"
   ]
  },
  {
   "cell_type": "code",
   "execution_count": null,
   "metadata": {},
   "outputs": [],
   "source": [
    "my_json_report_bii_s_7"
   ]
  },
  {
   "cell_type": "markdown",
   "metadata": {},
   "source": [
    "- This `Validation Report` shows that No Error has been logged\n",
    "- The rest of the report consists in warnings meant to draw the attention of the curator to elements which may be provided but which do not break the ISA syntax.\n",
    "- Notice the `study group` information reported on both study and assay files. If ISA `Factor Value[]` fields are found present in the `ISA Study` or ` ISA Assay` tables, the validator will try to identify the set of unique `Factor Value` combination defining a `Study Group`.\n",
    "    - When no `Factor Value` are found in a ISA `Study` or `Assay` table, the value is left to its default value: -1, which means that `No Study Group` have been found.\n",
    "    - ISA **strongly** encourages to declare Study Group using ISA Factor Value to unambiguously identify the Independent Variables of an experiment.\n",
    "    "
   ]
  },
  {
   "cell_type": "markdown",
   "metadata": {},
   "source": [
    "## 4. How does a validation failure looks like ?"
   ]
  },
  {
   "cell_type": "markdown",
   "metadata": {},
   "source": [
    "### BII-S-5 contains an error located in the `i_investigation.txt` file of the submission"
   ]
  },
  {
   "cell_type": "code",
   "execution_count": null,
   "metadata": {},
   "outputs": [],
   "source": [
    "my_json_report_bii_s_5 = isatab.validate(open(os.path.join('./BII-S-5/', 'i_investigation.txt')))"
   ]
  },
  {
   "cell_type": "code",
   "execution_count": null,
   "metadata": {},
   "outputs": [],
   "source": [
    "my_json_report_bii_s_5[\"errors\"]"
   ]
  },
  {
   "cell_type": "markdown",
   "metadata": {},
   "source": [
    "- The Validator report the Error Array is not empty and shows the root cause of the syntactic validator error.\n",
    "- There is a typo in the Investigation file which affects 2 positions on the file for both Investigation and Study Object: \n",
    "<span style=\"color:red\">Publication **l**ist</span>. vs <span style=\"color:green\">Publication **L**ist</span>"
   ]
  },
  {
   "cell_type": "markdown",
   "metadata": {},
   "source": [
    "## About this notebook\n",
    "\n",
    "- authors: philippe.rocca-serra@oerc.ox.ac.uk, massimiliano.izzo@oerc.ox.ac.uk\n",
    "- license: CC-BY 4.0\n",
    "- support: isatools@googlegroups.com\n",
    "- issue tracker: https://github.com/ISA-tools/isa-api/issues"
   ]
  }
 ],
 "metadata": {
  "kernelspec": {
   "display_name": "Python 3",
   "language": "python",
   "name": "python3"
  },
  "language_info": {
   "codemirror_mode": {
    "name": "ipython",
    "version": 3
   },
   "file_extension": ".py",
   "mimetype": "text/x-python",
   "name": "python",
   "nbconvert_exporter": "python",
   "pygments_lexer": "ipython3",
   "version": "3.7.4"
  }
 },
 "nbformat": 4,
 "nbformat_minor": 4
}
